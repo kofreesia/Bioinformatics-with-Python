{
 "cells": [
  {
   "cell_type": "markdown",
   "metadata": {},
   "source": [
    "## **Accessing NCBI database**"
   ]
  },
  {
   "cell_type": "markdown",
   "metadata": {},
   "source": [
    "**1.** Import the necessary module and set the email address."
   ]
  },
  {
   "cell_type": "code",
   "execution_count": 1,
   "metadata": {},
   "outputs": [],
   "source": [
    "import Bio #this is the biopython package\n",
    "from Bio import Entrez, Medline, SeqIO\n",
    "Entrez.email = \"yourname@gmail.com\" #tell NCBI who you are"
   ]
  },
  {
   "cell_type": "markdown",
   "metadata": {},
   "source": [
    "**2.** Next, we will use the `Entrez.esearch()` function to search the nucleotide database for `CRT gene` of `Plasmodium falciparum`. </br></br>\n",
    "   This function returns a handle to the results, which we can read using the `Entrez.read` function:"
   ]
  },
  {
   "cell_type": "code",
   "execution_count": 25,
   "metadata": {},
   "outputs": [
    {
     "name": "stdout",
     "output_type": "stream",
     "text": [
      "3081\n",
      "dict_keys(['Count', 'RetMax', 'RetStart', 'IdList', 'TranslationSet', 'TranslationStack', 'QueryTranslation'])\n"
     ]
    }
   ],
   "source": [
    "handle = Entrez.esearch(db=\"nucleotide\", term='CRT[Gene Name] AND \"Plasmodium falciparum\"[Organism]',\n",
    "                        idtype=\"acc\")\n",
    "rec_list = Entrez.read(handle) #store the search results in a dictionary\n",
    "print(rec_list[\"Count\"]) #as of 2024-01-04, there are 3081 entries in the database\n",
    "if rec_list[\"RetMax\"] < rec_list[\"Count\"]:\n",
    "    handle = Entrez.esearch(db=\"nucleotide\", term='CRT[Gene Name] AND \"Plasmodium falciparum\"[Organism]',\n",
    "                            retmax=rec_list[\"Count\"], idtype=\"acc\") #retmax is the number of results to be returned, default is 20, reset this value for more results.\n",
    "print(rec_list.keys()) #see contents in the record list"
   ]
  },
  {
   "cell_type": "markdown",
   "metadata": {},
   "source": [
    "3. Fetch the searching results and download these in a GenBank format. </br></br>The GenBank format data include both sequence data and useful metadata."
   ]
  },
  {
   "cell_type": "code",
   "execution_count": 22,
   "metadata": {},
   "outputs": [
    {
     "name": "stdout",
     "output_type": "stream",
     "text": [
      "LOCUS       OR483864                 240 bp    DNA     linear   INV 09-OCT-2023\n"
     ]
    }
   ],
   "source": [
    "id_list = rec_list['IdList']\n",
    "hdl = Entrez.efetch(db=\"nucleotide\", id=id_list, rettype=\"gb\")\n",
    "\n",
    "print(hdl.readline().strip()) #show the first line of fetched file"
   ]
  },
  {
   "cell_type": "markdown",
   "metadata": {},
   "source": [
    "4. Load and parse the results."
   ]
  },
  {
   "cell_type": "code",
   "execution_count": 26,
   "metadata": {},
   "outputs": [],
   "source": [
    "records = list(SeqIO.parse(hdl, \"gb\"))"
   ]
  },
  {
   "cell_type": "code",
   "execution_count": 35,
   "metadata": {},
   "outputs": [
    {
     "name": "stdout",
     "output_type": "stream",
     "text": [
      "OQ672451.1 Plasmodium falciparum isolate ML_14 chlo...\n",
      "Sequence length: 145,\n",
      "4 features, from: Plasmodium falciparum (malaria parasite P. falciparum)\n",
      "TGTGCTCATGTGTTTAAACTTATTTTTAAA...\n",
      "\n",
      "OQ672450.1 Plasmodium falciparum isolate ML_13 chlo...\n",
      "Sequence length: 145,\n",
      "4 features, from: Plasmodium falciparum (malaria parasite P. falciparum)\n",
      "TGTGCTCATGTGTTTAAACTTATTTTTAAA...\n",
      "\n",
      "OQ672449.1 Plasmodium falciparum isolate ML_12 chlo...\n",
      "Sequence length: 145,\n",
      "4 features, from: Plasmodium falciparum (malaria parasite P. falciparum)\n",
      "TGTGCTCATGTGTTTAAACTTATTTTTAAA...\n",
      "\n",
      "OQ672448.1 Plasmodium falciparum isolate ML_11 chlo...\n",
      "Sequence length: 145,\n",
      "4 features, from: Plasmodium falciparum (malaria parasite P. falciparum)\n",
      "TGTGCTCATGTGTTTAAACTTATTTTTAAA...\n",
      "\n",
      "OQ672447.1 Plasmodium falciparum isolate ML_10 chlo...\n",
      "Sequence length: 145,\n",
      "4 features, from: Plasmodium falciparum (malaria parasite P. falciparum)\n",
      "TGTGCTCATGTGTTTAAACTTATTTTTAAA...\n",
      "\n",
      "OQ672446.1 Plasmodium falciparum isolate ML_09 chlo...\n",
      "Sequence length: 145,\n",
      "4 features, from: Plasmodium falciparum (malaria parasite P. falciparum)\n",
      "TGTGCTCATGTGTTTAAACTTATTTTTAAA...\n",
      "\n",
      "OQ672445.1 Plasmodium falciparum isolate ML_08 chlo...\n",
      "Sequence length: 145,\n",
      "4 features, from: Plasmodium falciparum (malaria parasite P. falciparum)\n",
      "TGTGCTCATGTGTTTAAACTTATTTTTAAA...\n",
      "\n",
      "OQ672444.1 Plasmodium falciparum isolate ML_07 chlo...\n",
      "Sequence length: 145,\n",
      "4 features, from: Plasmodium falciparum (malaria parasite P. falciparum)\n",
      "TGTGCTCATGTGTTTAAACTTATTTTTAAA...\n",
      "\n",
      "OQ672443.1 Plasmodium falciparum isolate ML_06 chlo...\n",
      "Sequence length: 145,\n",
      "4 features, from: Plasmodium falciparum (malaria parasite P. falciparum)\n",
      "TGTGCTCATGTGTTTAAACTTATTTTTAAA...\n",
      "\n",
      "OQ672442.1 Plasmodium falciparum isolate ML_05 chlo...\n",
      "Sequence length: 145,\n",
      "4 features, from: Plasmodium falciparum (malaria parasite P. falciparum)\n",
      "TGTGCTCATGTGTTTAAACTTATTTTTAAA...\n",
      "\n",
      "OQ672441.1 Plasmodium falciparum isolate ML_04 chlo...\n",
      "Sequence length: 145,\n",
      "4 features, from: Plasmodium falciparum (malaria parasite P. falciparum)\n",
      "TGTGCTCATGTGTTTAAACTTATTTTTAAA...\n",
      "\n",
      "OQ672440.1 Plasmodium falciparum isolate ML_03 chlo...\n",
      "Sequence length: 145,\n",
      "4 features, from: Plasmodium falciparum (malaria parasite P. falciparum)\n",
      "TGTGCTCATGTGTTTAAACTTATTTTTAAA...\n",
      "\n",
      "OQ672439.1 Plasmodium falciparum isolate ML_02 chlo...\n",
      "Sequence length: 145,\n",
      "4 features, from: Plasmodium falciparum (malaria parasite P. falciparum)\n",
      "TGTGCTCATGTGTTTAAACTTATTTTTAAA...\n",
      "\n",
      "OQ672438.1 Plasmodium falciparum isolate ML_01 chlo...\n",
      "Sequence length: 145,\n",
      "4 features, from: Plasmodium falciparum (malaria parasite P. falciparum)\n",
      "TGTGCTCATGTGTTTAAACTTATTTTTAAA...\n",
      "\n",
      "OQ672437.1 Plasmodium falciparum isolate CZS_20 chl...\n",
      "Sequence length: 145,\n",
      "4 features, from: Plasmodium falciparum (malaria parasite P. falciparum)\n",
      "TGTGCTCATGTGTTTAAACTTATTTTTAAA...\n",
      "\n",
      "OQ672436.1 Plasmodium falciparum isolate CZS_19 chl...\n",
      "Sequence length: 145,\n",
      "4 features, from: Plasmodium falciparum (malaria parasite P. falciparum)\n",
      "TGTGCTCATGTGTTTAAACTTATTTTTAAA...\n",
      "\n",
      "OQ672435.1 Plasmodium falciparum isolate CZS_18 chl...\n",
      "Sequence length: 145,\n",
      "4 features, from: Plasmodium falciparum (malaria parasite P. falciparum)\n",
      "TGTGCTCATGTGTTTAAACTTATTTTTAAA...\n",
      "\n",
      "OQ672434.1 Plasmodium falciparum isolate CZS_17 chl...\n",
      "Sequence length: 145,\n",
      "4 features, from: Plasmodium falciparum (malaria parasite P. falciparum)\n",
      "TGTGCTCATGTGTTTAAACTTATTTTTAAA...\n",
      "\n",
      "OQ672433.1 Plasmodium falciparum isolate CZS_16 chl...\n",
      "Sequence length: 145,\n",
      "4 features, from: Plasmodium falciparum (malaria parasite P. falciparum)\n",
      "TGTGCTCATGTGTTTAAACTTATTTTTAAA...\n",
      "\n"
     ]
    }
   ],
   "source": [
    "for rec in records:\n",
    "    print(rec.id, rec.description[:40] + \"...\")\n",
    "    print(\"Sequence length: %i,\" % len(rec.seq))\n",
    "    print(\"%i features,\" % len(rec.features), end=\" \")\n",
    "    print(\"from: %s\" % rec.annotations[\"source\"])\n",
    "    print(rec.seq[:30] + \"...\")\n",
    "    print()"
   ]
  },
  {
   "cell_type": "code",
   "execution_count": 36,
   "metadata": {},
   "outputs": [
    {
     "name": "stdout",
     "output_type": "stream",
     "text": [
      "not processed:\n",
      "type: source\n",
      "location: [0:145](+)\n",
      "qualifiers:\n",
      "    Key: country, Value: ['Brazil']\n",
      "    Key: db_xref, Value: ['taxon:5833']\n",
      "    Key: isolate, Value: ['CZS_16']\n",
      "    Key: mol_type, Value: ['genomic DNA']\n",
      "    Key: organism, Value: ['Plasmodium falciparum']\n",
      "\n",
      "['crt']\n",
      "not processed:\n",
      "type: mRNA\n",
      "location: [<0:>145](+)\n",
      "qualifiers:\n",
      "    Key: gene, Value: ['crt']\n",
      "    Key: product, Value: ['chloroquine resistance transporter']\n",
      "\n",
      "not processed:\n",
      "type: CDS\n",
      "location: [<0:>145](+)\n",
      "qualifiers:\n",
      "    Key: codon_start, Value: ['1']\n",
      "    Key: gene, Value: ['crt']\n",
      "    Key: note, Value: ['localized within the digestive vacuole membrane']\n",
      "    Key: product, Value: ['chloroquine resistance transporter']\n",
      "    Key: protein_id, Value: ['WHO19582.1']\n",
      "    Key: translation, Value: ['CAHVFKLIFKEIKDNIFIYILSIIYLSVSVMNTIFAKRTLNKIGNYSF']\n",
      "\n"
     ]
    }
   ],
   "source": [
    "for feature in rec.features:\n",
    "    if feature.type == 'gene':\n",
    "        print(feature.qualifiers['gene'])\n",
    "    elif feature.type == 'exon':\n",
    "        loc = feature.location\n",
    "        print('Exon', loc.start, loc.end, loc.strand)\n",
    "    else:\n",
    "        print('not processed:\\n%s' % feature)"
   ]
  },
  {
   "cell_type": "code",
   "execution_count": 37,
   "metadata": {},
   "outputs": [
    {
     "name": "stdout",
     "output_type": "stream",
     "text": [
      "molecule_type=DNA\n",
      "topology=linear\n",
      "data_file_division=INV\n",
      "date=24-MAY-2023\n",
      "accessions=['OQ672433']\n",
      "sequence_version=1\n",
      "keywords=['']\n",
      "source=Plasmodium falciparum (malaria parasite P. falciparum)\n",
      "organism=Plasmodium falciparum\n",
      "taxonomy=['Eukaryota', 'Sar', 'Alveolata', 'Apicomplexa', 'Aconoidasida', 'Haemosporida', 'Plasmodiidae', 'Plasmodium', 'Plasmodium (Laverania)']\n",
      "references=[Reference(title='Plasmodium falciparum Chloroquine-pfcrt Resistant Haplotypes in Brazilian Endemic Areas Four Decades after CQ Withdrawn', ...), Reference(title='Direct Submission', ...)]\n",
      "structured_comment=defaultdict(<class 'dict'>, {'Assembly-Data': {'Sequencing Technology': 'Sanger dideoxy sequencing'}})\n"
     ]
    }
   ],
   "source": [
    "for name, value in rec.annotations.items():\n",
    "    print(\"%s=%s\" % (name, value))"
   ]
  }
 ],
 "metadata": {
  "kernelspec": {
   "display_name": "bioinformatics",
   "language": "python",
   "name": "python3"
  },
  "language_info": {
   "codemirror_mode": {
    "name": "ipython",
    "version": 3
   },
   "file_extension": ".py",
   "mimetype": "text/x-python",
   "name": "python",
   "nbconvert_exporter": "python",
   "pygments_lexer": "ipython3",
   "version": "3.12.1"
  }
 },
 "nbformat": 4,
 "nbformat_minor": 2
}
